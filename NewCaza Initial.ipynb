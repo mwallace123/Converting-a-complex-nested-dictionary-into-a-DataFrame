{
 "cells": [
  {
   "cell_type": "markdown",
   "id": "4b9a544b",
   "metadata": {},
   "source": [
    "### Importing and Reading the Historical Data"
   ]
  },
  {
   "cell_type": "code",
   "execution_count": 2,
   "id": "3d3019a7",
   "metadata": {},
   "outputs": [],
   "source": [
    "import json"
   ]
  },
  {
   "cell_type": "code",
   "execution_count": 3,
   "id": "89a3914c",
   "metadata": {},
   "outputs": [],
   "source": [
    "with open('builder_project_phase_unit_model_siting.json') as f:\n",
    "    data = f.read() # reading the pre-constructed data"
   ]
  },
  {
   "cell_type": "markdown",
   "id": "d1f6da38",
   "metadata": {},
   "source": [
    "### Reconstructing the data from a long string (class) into a dictionary"
   ]
  },
  {
   "cell_type": "code",
   "execution_count": 4,
   "id": "3f21fcd4",
   "metadata": {},
   "outputs": [
    {
     "name": "stdout",
     "output_type": "stream",
     "text": [
      "Data type before reconstruction : <class 'str'>\n"
     ]
    }
   ],
   "source": [
    "print(\"Data type before reconstruction :\", type(data)) # checking the container datatype of the pre-constructed data"
   ]
  },
  {
   "cell_type": "code",
   "execution_count": 5,
   "id": "47cd4e9b",
   "metadata": {},
   "outputs": [],
   "source": [
    "ProjectBuilderPhase = json.loads(data) # reconstructing the data from a string (a very long one by the looks of things) into a dictionary"
   ]
  },
  {
   "cell_type": "code",
   "execution_count": 6,
   "id": "d0a21b3d",
   "metadata": {},
   "outputs": [
    {
     "name": "stdout",
     "output_type": "stream",
     "text": [
      "data type after reconstruction :  <class 'dict'>\n"
     ]
    }
   ],
   "source": [
    "print(\"data type after reconstruction : \", type(ProjectBuilderPhase)) # Checking the data type container after re-construction"
   ]
  },
  {
   "cell_type": "code",
   "execution_count": 7,
   "id": "c28ee27a",
   "metadata": {},
   "outputs": [
    {
     "data": {
      "text/plain": [
       "dict"
      ]
     },
     "execution_count": 7,
     "metadata": {},
     "output_type": "execute_result"
    }
   ],
   "source": [
    "type(ProjectBuilderPhase) # Re-clarifies that this ProjectBuilderPhase is indeed a dictionary."
   ]
  },
  {
   "cell_type": "markdown",
   "id": "c2caaa2e",
   "metadata": {},
   "source": [
    "#### Unravelling this nested dictionary focusing on units -> models -> elevations"
   ]
  },
  {
   "cell_type": "code",
   "execution_count": 8,
   "id": "114b8448",
   "metadata": {},
   "outputs": [
    {
     "name": "stdout",
     "output_type": "stream",
     "text": [
      "projectPhase\n",
      "units\n"
     ]
    }
   ],
   "source": [
    "for key, value in ProjectBuilderPhase.items(): # # Since there is only two initial keys (ProjectPhase and units) \n",
    "    print(key)"
   ]
  },
  {
   "cell_type": "code",
   "execution_count": 9,
   "id": "fc3ac238",
   "metadata": {},
   "outputs": [],
   "source": [
    "for key, value in ProjectBuilderPhase.items(): # I extracted all the units from the ProjectBuilderPhase dictionary\n",
    "    units = value"
   ]
  },
  {
   "cell_type": "code",
   "execution_count": 10,
   "id": "d20b0740",
   "metadata": {},
   "outputs": [
    {
     "data": {
      "text/plain": [
       "list"
      ]
     },
     "execution_count": 10,
     "metadata": {},
     "output_type": "execute_result"
    }
   ],
   "source": [
    "type(units) # This clarifies that all data describing the units in the ProjectBuilderPhase is a list of all the units"
   ]
  },
  {
   "cell_type": "code",
   "execution_count": 11,
   "id": "aa602a1a",
   "metadata": {},
   "outputs": [
    {
     "name": "stdout",
     "output_type": "stream",
     "text": [
      "91\n"
     ]
    }
   ],
   "source": [
    "print(len(units)) # It looks like there are 91 units because there are 92 items in the list counting the first unit as index 0."
   ]
  },
  {
   "cell_type": "markdown",
   "id": "818830e5",
   "metadata": {},
   "source": [
    "#### Focus is on the first unit as an example of how this dictionary is unravelled with the goal of generalizing the code so that specific information can be put into a Pandas DataFrame for our analysis."
   ]
  },
  {
   "cell_type": "code",
   "execution_count": 12,
   "id": "31150471",
   "metadata": {},
   "outputs": [],
   "source": [
    "unit_1 = units[0]"
   ]
  },
  {
   "cell_type": "code",
   "execution_count": 13,
   "id": "78ec30d5",
   "metadata": {},
   "outputs": [
    {
     "data": {
      "text/plain": [
       "dict"
      ]
     },
     "execution_count": 13,
     "metadata": {},
     "output_type": "execute_result"
    }
   ],
   "source": [
    "type(unit_1) # All the data describing the 1st unit is displayed as a dictionary."
   ]
  },
  {
   "cell_type": "code",
   "execution_count": 14,
   "id": "3992a426",
   "metadata": {},
   "outputs": [
    {
     "data": {
      "text/plain": [
       "{'id': '170746786960043724694219176983600170822',\n",
       " 'code': '10',\n",
       " 'models': [{'id': '164665624626170107920651010157816699847',\n",
       "   'code': 'humber_v2',\n",
       "   'listPrice': 1759990.0,\n",
       "   'salePrice': 1759990.0,\n",
       "   'constructionCost': None,\n",
       "   'elevations': [{'id': '259778670448283521284332304820326082204',\n",
       "     'code': 'A',\n",
       "     'listPrice': 1759990.0,\n",
       "     'salePrice': 1759990.0,\n",
       "     'constructionCost': None},\n",
       "    {'id': '109714831098739472990700456335793217689',\n",
       "     'code': 'B',\n",
       "     'listPrice': 1779990.0,\n",
       "     'salePrice': 1779990.0,\n",
       "     'constructionCost': None},\n",
       "    {'id': '37834930546664596364209211943049713743',\n",
       "     'code': 'C',\n",
       "     'listPrice': 1819990.0,\n",
       "     'salePrice': 1819990.0,\n",
       "     'constructionCost': None}]},\n",
       "  {'id': '105807660803020294964653836207176917848',\n",
       "   'code': 'sable_v2',\n",
       "   'listPrice': 1819990.0,\n",
       "   'salePrice': 1819990.0,\n",
       "   'constructionCost': None,\n",
       "   'elevations': [{'id': '99878254832058143572575664055376394182',\n",
       "     'code': 'A',\n",
       "     'listPrice': 1819990.0,\n",
       "     'salePrice': 1819990.0,\n",
       "     'constructionCost': None},\n",
       "    {'id': '20171966567751963258622832271966515342',\n",
       "     'code': 'B',\n",
       "     'listPrice': 1829990.0,\n",
       "     'salePrice': 1829990.0,\n",
       "     'constructionCost': None},\n",
       "    {'id': '117774870349517490232410272954350162768',\n",
       "     'code': 'C',\n",
       "     'listPrice': 1859990.0,\n",
       "     'salePrice': 1859990.0,\n",
       "     'constructionCost': None}]},\n",
       "  {'id': '326519511403536107521898145859611116120',\n",
       "   'code': 'tremblant_v2',\n",
       "   'listPrice': 1989990.0,\n",
       "   'salePrice': 1989990.0,\n",
       "   'constructionCost': None,\n",
       "   'elevations': [{'id': '64677722311108398398676531303997758519',\n",
       "     'code': 'A',\n",
       "     'listPrice': 1989990.0,\n",
       "     'salePrice': 1989990.0,\n",
       "     'constructionCost': None},\n",
       "    {'id': '203491172953747890594604665723582273493',\n",
       "     'code': 'B',\n",
       "     'listPrice': 1995990.0,\n",
       "     'salePrice': 1995990.0,\n",
       "     'constructionCost': None},\n",
       "    {'id': '236277233912424502995970624918010033630',\n",
       "     'code': 'C',\n",
       "     'listPrice': 1999990.0,\n",
       "     'salePrice': 1999990.0,\n",
       "     'constructionCost': None}]},\n",
       "  {'id': '292780264225404402547241396464383307461',\n",
       "   'code': 'logan_v2',\n",
       "   'listPrice': 1589990.0,\n",
       "   'salePrice': 1589990.0,\n",
       "   'constructionCost': None,\n",
       "   'elevations': [{'id': '253370545181561118086669921139082989285',\n",
       "     'code': 'A',\n",
       "     'listPrice': 1589990.0,\n",
       "     'salePrice': 1589990.0,\n",
       "     'constructionCost': None},\n",
       "    {'id': '330975224278028433961219958377804759097',\n",
       "     'code': 'B',\n",
       "     'listPrice': 1610990.0,\n",
       "     'salePrice': 1610990.0,\n",
       "     'constructionCost': None},\n",
       "    {'id': '168620818501159790355324074221402289449',\n",
       "     'code': 'C',\n",
       "     'listPrice': 1635990.0,\n",
       "     'salePrice': 1635990.0,\n",
       "     'constructionCost': None}]},\n",
       "  {'id': '127980442823647262715247669825181426442',\n",
       "   'code': 'highpark_v2',\n",
       "   'listPrice': 1509990.0,\n",
       "   'salePrice': 1509990.0,\n",
       "   'constructionCost': 750000.0,\n",
       "   'elevations': [{'id': '119465950825664807884350196238456952592',\n",
       "     'code': 'A',\n",
       "     'listPrice': 1509990.0,\n",
       "     'salePrice': 1509990.0,\n",
       "     'constructionCost': 790000.0},\n",
       "    {'id': '215823753719440155851295397746620601359',\n",
       "     'code': 'B',\n",
       "     'listPrice': 1519990.0,\n",
       "     'salePrice': 1519990.0,\n",
       "     'constructionCost': 800000.0},\n",
       "    {'id': '295701693515484661349866896596031098675',\n",
       "     'code': 'C',\n",
       "     'listPrice': 1549990.0,\n",
       "     'salePrice': 1549990.0,\n",
       "     'constructionCost': 810000.0}]},\n",
       "  {'id': '15939785492852086501097131259971537150',\n",
       "   'code': 'cascade_v2',\n",
       "   'listPrice': 1869990.0,\n",
       "   'salePrice': 1869990.0,\n",
       "   'constructionCost': None,\n",
       "   'elevations': [{'id': '293004388722682883064744813942753539419',\n",
       "     'code': 'A',\n",
       "     'listPrice': 1869990.0,\n",
       "     'salePrice': 1869990.0,\n",
       "     'constructionCost': None},\n",
       "    {'id': '105984618609651145929023985032569214949',\n",
       "     'code': 'B',\n",
       "     'listPrice': 1889990.0,\n",
       "     'salePrice': 1889990.0,\n",
       "     'constructionCost': None},\n",
       "    {'id': '257729067703933294251288385126170455198',\n",
       "     'code': 'C',\n",
       "     'listPrice': 1919990.0,\n",
       "     'salePrice': 1919990.0,\n",
       "     'constructionCost': None}]},\n",
       "  {'id': '25370540797231162182360860313517328309',\n",
       "   'code': 'rouge_v2',\n",
       "   'listPrice': 1899990.0,\n",
       "   'salePrice': 1899990.0,\n",
       "   'constructionCost': None,\n",
       "   'elevations': [{'id': '50649220745888160091929632676674879730',\n",
       "     'code': 'A',\n",
       "     'listPrice': 1899990.0,\n",
       "     'salePrice': 1899990.0,\n",
       "     'constructionCost': None},\n",
       "    {'id': '68072996127191664100079568165600817530',\n",
       "     'code': 'B',\n",
       "     'listPrice': 1919990.0,\n",
       "     'salePrice': 1919990.0,\n",
       "     'constructionCost': None},\n",
       "    {'id': '64475935672905118063873598897153417752',\n",
       "     'code': 'C',\n",
       "     'listPrice': 1949990.0,\n",
       "     'salePrice': 1949990.0,\n",
       "     'constructionCost': None}]}]}"
      ]
     },
     "execution_count": 14,
     "metadata": {},
     "output_type": "execute_result"
    }
   ],
   "source": [
    "unit_1"
   ]
  },
  {
   "cell_type": "code",
   "execution_count": 15,
   "id": "0979613f",
   "metadata": {},
   "outputs": [
    {
     "name": "stdout",
     "output_type": "stream",
     "text": [
      "id\n",
      "code\n",
      "models\n"
     ]
    }
   ],
   "source": [
    "for key, value in unit_1.items(): # In the first listed lot, these are the keys \n",
    "    print(key)"
   ]
  },
  {
   "cell_type": "code",
   "execution_count": 16,
   "id": "983c5b38",
   "metadata": {},
   "outputs": [],
   "source": [
    "unit_1_models = units[0]['models'] # This variable defines the list of all models within the first listed unit."
   ]
  },
  {
   "cell_type": "code",
   "execution_count": 17,
   "id": "7c3b3ba5",
   "metadata": {},
   "outputs": [
    {
     "data": {
      "text/plain": [
       "list"
      ]
     },
     "execution_count": 17,
     "metadata": {},
     "output_type": "execute_result"
    }
   ],
   "source": [
    "type(unit_1_models)"
   ]
  },
  {
   "cell_type": "code",
   "execution_count": 18,
   "id": "22c0b82a",
   "metadata": {},
   "outputs": [],
   "source": [
    "unit_1_model_1 = unit_1_models[0]"
   ]
  },
  {
   "cell_type": "code",
   "execution_count": 19,
   "id": "8fe05c04",
   "metadata": {},
   "outputs": [
    {
     "data": {
      "text/plain": [
       "dict"
      ]
     },
     "execution_count": 19,
     "metadata": {},
     "output_type": "execute_result"
    }
   ],
   "source": [
    "type(unit_1_model_1)"
   ]
  },
  {
   "cell_type": "code",
   "execution_count": 20,
   "id": "dcf3ae47",
   "metadata": {},
   "outputs": [],
   "source": [
    "unit_1_model_1_elevations = unit_1_model_1['elevations']"
   ]
  },
  {
   "cell_type": "code",
   "execution_count": 21,
   "id": "2fd0a87b",
   "metadata": {},
   "outputs": [
    {
     "data": {
      "text/plain": [
       "list"
      ]
     },
     "execution_count": 21,
     "metadata": {},
     "output_type": "execute_result"
    }
   ],
   "source": [
    "type(unit_1_model_1_elevations) # This is the list of all the elevations for the first model of the first unit."
   ]
  },
  {
   "cell_type": "code",
   "execution_count": 22,
   "id": "78a18f34",
   "metadata": {},
   "outputs": [
    {
     "data": {
      "text/plain": [
       "3"
      ]
     },
     "execution_count": 22,
     "metadata": {},
     "output_type": "execute_result"
    }
   ],
   "source": [
    "len(unit_1_model_1_elevations) # There are three different kinds of elevations for the first model of the first unit."
   ]
  },
  {
   "cell_type": "code",
   "execution_count": 23,
   "id": "3a862580",
   "metadata": {},
   "outputs": [],
   "source": [
    "unit_1_model_1_elevations_1 = unit_1_model_1_elevations[0]"
   ]
  },
  {
   "cell_type": "code",
   "execution_count": 24,
   "id": "313810ee",
   "metadata": {},
   "outputs": [
    {
     "data": {
      "text/plain": [
       "{'id': '259778670448283521284332304820326082204',\n",
       " 'code': 'A',\n",
       " 'listPrice': 1759990.0,\n",
       " 'salePrice': 1759990.0,\n",
       " 'constructionCost': None}"
      ]
     },
     "execution_count": 24,
     "metadata": {},
     "output_type": "execute_result"
    }
   ],
   "source": [
    "unit_1_model_1_elevations_1 # each elevation is a single dictionary of information"
   ]
  },
  {
   "cell_type": "code",
   "execution_count": 25,
   "id": "6fe61d65",
   "metadata": {},
   "outputs": [
    {
     "data": {
      "text/plain": [
       "'259778670448283521284332304820326082204'"
      ]
     },
     "execution_count": 25,
     "metadata": {},
     "output_type": "execute_result"
    }
   ],
   "source": [
    "unit_1_model_1_elevations_1['id'] # indexing the id number for the first elevation of the first model of the first unit."
   ]
  },
  {
   "cell_type": "code",
   "execution_count": 26,
   "id": "494b0c7c",
   "metadata": {},
   "outputs": [
    {
     "data": {
      "text/plain": [
       "'A'"
      ]
     },
     "execution_count": 26,
     "metadata": {},
     "output_type": "execute_result"
    }
   ],
   "source": [
    "unit_1_model_1_elevations_1['code'] # indexing the code for the first elevation of the first model of the first unit."
   ]
  },
  {
   "cell_type": "markdown",
   "id": "b41d772d",
   "metadata": {},
   "source": [
    "##### Now that the dictionary has been unravelled. This is a starting point for iterating each id or code or cost/sale price/list price and putting it into a Pandas DataFrame. The id's and codes will make sense this way."
   ]
  },
  {
   "cell_type": "code",
   "execution_count": 27,
   "id": "3a1aad4d",
   "metadata": {},
   "outputs": [],
   "source": [
    "import pandas as pd"
   ]
  },
  {
   "cell_type": "markdown",
   "id": "2bf8d362",
   "metadata": {},
   "source": [
    "### Steve's contribution in loading the data into a DataFrame"
   ]
  },
  {
   "cell_type": "code",
   "execution_count": 28,
   "id": "6a95269d",
   "metadata": {},
   "outputs": [
    {
     "data": {
      "text/html": [
       "<div>\n",
       "<style scoped>\n",
       "    .dataframe tbody tr th:only-of-type {\n",
       "        vertical-align: middle;\n",
       "    }\n",
       "\n",
       "    .dataframe tbody tr th {\n",
       "        vertical-align: top;\n",
       "    }\n",
       "\n",
       "    .dataframe thead th {\n",
       "        text-align: right;\n",
       "    }\n",
       "</style>\n",
       "<table border=\"1\" class=\"dataframe\">\n",
       "  <thead>\n",
       "    <tr style=\"text-align: right;\">\n",
       "      <th></th>\n",
       "      <th>unit_id</th>\n",
       "      <th>unit_code</th>\n",
       "      <th>model_id</th>\n",
       "      <th>model_code</th>\n",
       "      <th>model_list_price</th>\n",
       "      <th>model_sale_price</th>\n",
       "      <th>elev_id</th>\n",
       "      <th>elev_code</th>\n",
       "      <th>elev_list_price</th>\n",
       "      <th>elev_sale_price</th>\n",
       "    </tr>\n",
       "  </thead>\n",
       "  <tbody>\n",
       "    <tr>\n",
       "      <th>0</th>\n",
       "      <td>170746786960043724694219176983600170822</td>\n",
       "      <td>10</td>\n",
       "      <td>164665624626170107920651010157816699847</td>\n",
       "      <td>humber_v2</td>\n",
       "      <td>1759990.0</td>\n",
       "      <td>1759990.0</td>\n",
       "      <td>259778670448283521284332304820326082204</td>\n",
       "      <td>A</td>\n",
       "      <td>1759990.0</td>\n",
       "      <td>1759990.0</td>\n",
       "    </tr>\n",
       "    <tr>\n",
       "      <th>1</th>\n",
       "      <td>170746786960043724694219176983600170822</td>\n",
       "      <td>10</td>\n",
       "      <td>164665624626170107920651010157816699847</td>\n",
       "      <td>humber_v2</td>\n",
       "      <td>1759990.0</td>\n",
       "      <td>1759990.0</td>\n",
       "      <td>109714831098739472990700456335793217689</td>\n",
       "      <td>B</td>\n",
       "      <td>1779990.0</td>\n",
       "      <td>1779990.0</td>\n",
       "    </tr>\n",
       "    <tr>\n",
       "      <th>2</th>\n",
       "      <td>170746786960043724694219176983600170822</td>\n",
       "      <td>10</td>\n",
       "      <td>164665624626170107920651010157816699847</td>\n",
       "      <td>humber_v2</td>\n",
       "      <td>1759990.0</td>\n",
       "      <td>1759990.0</td>\n",
       "      <td>37834930546664596364209211943049713743</td>\n",
       "      <td>C</td>\n",
       "      <td>1819990.0</td>\n",
       "      <td>1819990.0</td>\n",
       "    </tr>\n",
       "    <tr>\n",
       "      <th>3</th>\n",
       "      <td>170746786960043724694219176983600170822</td>\n",
       "      <td>10</td>\n",
       "      <td>105807660803020294964653836207176917848</td>\n",
       "      <td>sable_v2</td>\n",
       "      <td>1819990.0</td>\n",
       "      <td>1819990.0</td>\n",
       "      <td>99878254832058143572575664055376394182</td>\n",
       "      <td>A</td>\n",
       "      <td>1819990.0</td>\n",
       "      <td>1819990.0</td>\n",
       "    </tr>\n",
       "    <tr>\n",
       "      <th>4</th>\n",
       "      <td>170746786960043724694219176983600170822</td>\n",
       "      <td>10</td>\n",
       "      <td>105807660803020294964653836207176917848</td>\n",
       "      <td>sable_v2</td>\n",
       "      <td>1819990.0</td>\n",
       "      <td>1819990.0</td>\n",
       "      <td>20171966567751963258622832271966515342</td>\n",
       "      <td>B</td>\n",
       "      <td>1829990.0</td>\n",
       "      <td>1829990.0</td>\n",
       "    </tr>\n",
       "  </tbody>\n",
       "</table>\n",
       "</div>"
      ],
      "text/plain": [
       "                                   unit_id unit_code  \\\n",
       "0  170746786960043724694219176983600170822        10   \n",
       "1  170746786960043724694219176983600170822        10   \n",
       "2  170746786960043724694219176983600170822        10   \n",
       "3  170746786960043724694219176983600170822        10   \n",
       "4  170746786960043724694219176983600170822        10   \n",
       "\n",
       "                                  model_id model_code  model_list_price  \\\n",
       "0  164665624626170107920651010157816699847  humber_v2         1759990.0   \n",
       "1  164665624626170107920651010157816699847  humber_v2         1759990.0   \n",
       "2  164665624626170107920651010157816699847  humber_v2         1759990.0   \n",
       "3  105807660803020294964653836207176917848   sable_v2         1819990.0   \n",
       "4  105807660803020294964653836207176917848   sable_v2         1819990.0   \n",
       "\n",
       "   model_sale_price                                  elev_id elev_code  \\\n",
       "0         1759990.0  259778670448283521284332304820326082204         A   \n",
       "1         1759990.0  109714831098739472990700456335793217689         B   \n",
       "2         1759990.0   37834930546664596364209211943049713743         C   \n",
       "3         1819990.0   99878254832058143572575664055376394182         A   \n",
       "4         1819990.0   20171966567751963258622832271966515342         B   \n",
       "\n",
       "   elev_list_price  elev_sale_price  \n",
       "0        1759990.0        1759990.0  \n",
       "1        1779990.0        1779990.0  \n",
       "2        1819990.0        1819990.0  \n",
       "3        1819990.0        1819990.0  \n",
       "4        1829990.0        1829990.0  "
      ]
     },
     "execution_count": 28,
     "metadata": {},
     "output_type": "execute_result"
    }
   ],
   "source": [
    "data = json.load(open('builder_project_phase_unit_model_siting.json')) \n",
    "data1 = []\n",
    "for units in data['units']:\n",
    "        for models in units['models']:\n",
    "            for elevations in models['elevations']:\n",
    "                data1.append((units['id'],\n",
    "                            units['code'],\n",
    "                            models['id'],\n",
    "                            models['code'],\n",
    "                            models['listPrice'],\n",
    "                            models['salePrice'],\n",
    "                            elevations['id'],\n",
    "                            elevations['code'],\n",
    "                            elevations['listPrice'],\n",
    "                            elevations['salePrice']))\n",
    "               \n",
    "df = pd.DataFrame(data1)\n",
    "df = df.rename(columns={0: 'unit_id', 1: 'unit_code', 2: 'model_id', 3: 'model_code',\n",
    "                  4: 'model_list_price', 5: 'model_sale_price', 6: 'elev_id', 7: 'elev_code',\n",
    "                  8: 'elev_list_price', 9: 'elev_sale_price'})\n",
    "df.head()"
   ]
  },
  {
   "cell_type": "markdown",
   "id": "20196d01",
   "metadata": {},
   "source": [
    "### Purchase Request Data"
   ]
  },
  {
   "cell_type": "code",
   "execution_count": 29,
   "id": "6d5eda82",
   "metadata": {},
   "outputs": [],
   "source": [
    "with open('builder_project_phase_purchase_requests.json') as p:\n",
    "    data_2 = p.read() # reading the pre-constructed data"
   ]
  },
  {
   "cell_type": "code",
   "execution_count": 30,
   "id": "bc5ac153",
   "metadata": {},
   "outputs": [
    {
     "name": "stdout",
     "output_type": "stream",
     "text": [
      "Data type before reconstruction : <class 'str'>\n"
     ]
    }
   ],
   "source": [
    "print(\"Data type before reconstruction :\", type(data_2)) # checking the container datatype of the pre-constructed data"
   ]
  },
  {
   "cell_type": "code",
   "execution_count": 31,
   "id": "568972ac",
   "metadata": {},
   "outputs": [],
   "source": [
    "PurchaseRequestData = json.loads(data_2) # reconstructing the data from a string (a very long one by the looks of things) into a list"
   ]
  },
  {
   "cell_type": "code",
   "execution_count": 32,
   "id": "3200181a",
   "metadata": {},
   "outputs": [
    {
     "data": {
      "text/plain": [
       "list"
      ]
     },
     "execution_count": 32,
     "metadata": {},
     "output_type": "execute_result"
    }
   ],
   "source": [
    "type(PurchaseRequestData) # Re-clarifies that this PurchaseRequestData is indeed a list of dictionaries see cells below."
   ]
  },
  {
   "cell_type": "code",
   "execution_count": 47,
   "id": "06b4422f",
   "metadata": {},
   "outputs": [
    {
     "data": {
      "text/plain": [
       "5"
      ]
     },
     "execution_count": 47,
     "metadata": {},
     "output_type": "execute_result"
    }
   ],
   "source": [
    "len(PurchaseRequestData) # There are five sample purchase requests"
   ]
  },
  {
   "cell_type": "code",
   "execution_count": 33,
   "id": "97bf11d4",
   "metadata": {},
   "outputs": [
    {
     "data": {
      "text/plain": [
       "[{'sequence': 6,\n",
       "  'model': {'id': '326519511403536107521898145859611116120',\n",
       "   'code': 'tremblant_v2'},\n",
       "  'purchaseRequestAgentRepresentation': {'code': 'notRepresented'},\n",
       "  'validationStatus': {'code': 'valid'},\n",
       "  'id': 79323914104754170229919893055764627421,\n",
       "  'createdDate': '2022-04-23T16:35:08.066+00:00',\n",
       "  'createdBy': 238326641218361929399469593201153582650,\n",
       "  'modifiedDate': '2022-04-23T16:35:08.066+00:00',\n",
       "  'modifiedBy': 238326641218361929399469593201153582650,\n",
       "  'projectPhase': {'entityTypeCode': 'BuilderProjectPhase$HibernateProxy$zZRcXTWp',\n",
       "   'id': '61936476469394956423811905693698984341',\n",
       "   'code': 'R2'},\n",
       "  'member': {'id': '238326641218361929399469593201153582650',\n",
       "   'code': 'b0b1aba6-1c88-4bbc-a7d8-6f498990d677'},\n",
       "  'purchaseCandidate': None,\n",
       "  'comments': '',\n",
       "  'agentMember': None,\n",
       "  'agentInformation': None,\n",
       "  'governanceState': {'governanceStatus': {'id': 183664158261558608305632032228377781178,\n",
       "    'code': 'submittedForApproval',\n",
       "    'name': 'Submitted'}},\n",
       "  'modelElevations': [],\n",
       "  'units': [{'id': '90702621565415997141353539143693940017', 'code': '6'}],\n",
       "  'preferredUnit': None},\n",
       " {'sequence': 7,\n",
       "  'model': {'id': '127980442823647262715247669825181426442',\n",
       "   'code': 'highpark_v2'},\n",
       "  'purchaseRequestAgentRepresentation': {'code': 'notRepresented'},\n",
       "  'validationStatus': {'code': 'valid'},\n",
       "  'id': 80330247012046068400763358414099419781,\n",
       "  'createdDate': '2022-05-13T21:03:50.868+00:00',\n",
       "  'createdBy': 144016199251080022821532858060524443331,\n",
       "  'modifiedDate': '2022-05-13T21:03:50.868+00:00',\n",
       "  'modifiedBy': 144016199251080022821532858060524443331,\n",
       "  'projectPhase': {'entityTypeCode': 'BuilderProjectPhase$HibernateProxy$zZRcXTWp',\n",
       "   'id': '61936476469394956423811905693698984341',\n",
       "   'code': 'R2'},\n",
       "  'member': {'id': '144016199251080022821532858060524443331',\n",
       "   'code': '907db80e-2065-4739-ac2a-3a78c2b7d98a'},\n",
       "  'purchaseCandidate': None,\n",
       "  'comments': '',\n",
       "  'agentMember': None,\n",
       "  'agentInformation': None,\n",
       "  'governanceState': {'governanceStatus': {'id': 183664158261558608305632032228377781178,\n",
       "    'code': 'submittedForApproval',\n",
       "    'name': 'Submitted'}},\n",
       "  'modelElevations': [{'id': '119465950825664807884350196238456952592'}],\n",
       "  'units': [{'id': '108244622275259562164475253449023827395', 'code': '29'},\n",
       "   {'id': '274380973755684437610912487041393536120', 'code': '30'},\n",
       "   {'id': '332096254994878785092761726200846137194', 'code': '9'}],\n",
       "  'preferredUnit': {'id': '108244622275259562164475253449023827395',\n",
       "   'code': '29'}},\n",
       " {'sequence': 9,\n",
       "  'unit': {'id': '59220718467727525113371133874619858475', 'code': '106-4'},\n",
       "  'purchaseRequestAgentRepresentation': {'code': 'notRepresented'},\n",
       "  'validationStatus': {'code': 'valid'},\n",
       "  'id': 290724171236868583696544743686238467290,\n",
       "  'createdDate': '2022-05-19T14:51:05.752+00:00',\n",
       "  'createdBy': 8984888742192155624564665337111150336,\n",
       "  'modifiedDate': '2022-05-19T14:51:05.752+00:00',\n",
       "  'modifiedBy': 8984888742192155624564665337111150336,\n",
       "  'projectPhase': {'entityTypeCode': 'BuilderProjectPhase$HibernateProxy$zZRcXTWp',\n",
       "   'id': '61936476469394956423811905693698984341',\n",
       "   'code': 'R2'},\n",
       "  'member': {'id': '8984888742192155624564665337111150336',\n",
       "   'code': '73a42d64-c708-40f1-af06-61ead93ef336'},\n",
       "  'purchaseCandidate': None,\n",
       "  'comments': '',\n",
       "  'agentMember': None,\n",
       "  'agentInformation': None,\n",
       "  'governanceState': {'governanceStatus': {'id': 183664158261558608305632032228377781178,\n",
       "    'code': 'submittedForApproval',\n",
       "    'name': 'Submitted'}},\n",
       "  'models': [],\n",
       "  'preferredModel': None},\n",
       " {'sequence': 10,\n",
       "  'model': {'id': '1743295353221137051427450883861233548', 'code': 'acadia'},\n",
       "  'purchaseRequestAgentRepresentation': {'code': 'notRepresented'},\n",
       "  'validationStatus': {'code': 'valid'},\n",
       "  'id': 141012978058968556829089436532695298221,\n",
       "  'createdDate': '2022-05-30T21:15:20.250+00:00',\n",
       "  'createdBy': 303156455355451892526290871773497701496,\n",
       "  'modifiedDate': '2022-05-30T21:15:20.250+00:00',\n",
       "  'modifiedBy': 303156455355451892526290871773497701496,\n",
       "  'projectPhase': {'entityTypeCode': 'BuilderProjectPhase$HibernateProxy$zZRcXTWp',\n",
       "   'id': '61936476469394956423811905693698984341',\n",
       "   'code': 'R2'},\n",
       "  'member': {'id': '303156455355451892526290871773497701496',\n",
       "   'code': 'a150d96a-84f7-4939-8b84-7a09c3a259cb'},\n",
       "  'purchaseCandidate': {'entityTypeCode': 'builderProjectUnitPurchaseCandidate',\n",
       "   'sequence': 125,\n",
       "   'hasComments': None,\n",
       "   'agentRepresentation': {'code': 'notRepresented'},\n",
       "   'purchaseStatus': {'code': 'candidate'},\n",
       "   'id': 331855826535203948989541839900624706733,\n",
       "   'createdDate': '2022-10-26T18:56:36.249+00:00',\n",
       "   'createdBy': 252498529003637511825530924082381995537,\n",
       "   'modifiedDate': '2022-10-26T18:56:36.249+00:00',\n",
       "   'modifiedBy': 252498529003637511825530924082381995537,\n",
       "   'member': {'id': '303156455355451892526290871773497701496',\n",
       "    'code': 'a150d96a-84f7-4939-8b84-7a09c3a259cb'},\n",
       "   'agentMember': None,\n",
       "   'agentInformation': None,\n",
       "   'purchaseRequest': {'entityTypeCode': 'builderProjectModelPurchaseRequest',\n",
       "    'id': '141012978058968556829089436532695298221'}},\n",
       "  'comments': '',\n",
       "  'agentMember': None,\n",
       "  'agentInformation': None,\n",
       "  'governanceState': {'governanceStatus': {'id': 183664158261558608305632032228377781178,\n",
       "    'code': 'submittedForApproval',\n",
       "    'name': 'Submitted'}},\n",
       "  'modelElevations': [],\n",
       "  'units': [{'id': '304877138988449617462466328694233126923',\n",
       "    'code': '106-3'}],\n",
       "  'preferredUnit': None},\n",
       " {'sequence': 11,\n",
       "  'unit': {'id': '323631107180896235680900048769824859491', 'code': '34'},\n",
       "  'purchaseRequestAgentRepresentation': {'code': 'notRepresented'},\n",
       "  'validationStatus': {'code': 'valid'},\n",
       "  'id': 165018273342074700707658732427349089267,\n",
       "  'createdDate': '2022-06-25T12:13:06.384+00:00',\n",
       "  'createdBy': 73407343282096903269699502215346738601,\n",
       "  'modifiedDate': '2022-06-25T12:13:06.384+00:00',\n",
       "  'modifiedBy': 73407343282096903269699502215346738601,\n",
       "  'projectPhase': {'entityTypeCode': 'BuilderProjectPhase$HibernateProxy$zZRcXTWp',\n",
       "   'id': '61936476469394956423811905693698984341',\n",
       "   'code': 'R2'},\n",
       "  'member': {'id': '73407343282096903269699502215346738601',\n",
       "   'code': '576cd400-274d-4b38-9f27-2e4e213bbe14'},\n",
       "  'purchaseCandidate': None,\n",
       "  'comments': '',\n",
       "  'agentMember': None,\n",
       "  'agentInformation': None,\n",
       "  'governanceState': {'governanceStatus': {'id': 183664158261558608305632032228377781178,\n",
       "    'code': 'submittedForApproval',\n",
       "    'name': 'Submitted'}},\n",
       "  'models': [{'id': '127980442823647262715247669825181426442',\n",
       "    'code': 'highpark_v2'}],\n",
       "  'preferredModel': None}]"
      ]
     },
     "execution_count": 33,
     "metadata": {},
     "output_type": "execute_result"
    }
   ],
   "source": [
    "PurchaseRequestData # Here's the entire data for the Purchase Requests"
   ]
  },
  {
   "cell_type": "code",
   "execution_count": 34,
   "id": "a8cf7724",
   "metadata": {},
   "outputs": [
    {
     "data": {
      "text/plain": [
       "{'sequence': 6,\n",
       " 'model': {'id': '326519511403536107521898145859611116120',\n",
       "  'code': 'tremblant_v2'},\n",
       " 'purchaseRequestAgentRepresentation': {'code': 'notRepresented'},\n",
       " 'validationStatus': {'code': 'valid'},\n",
       " 'id': 79323914104754170229919893055764627421,\n",
       " 'createdDate': '2022-04-23T16:35:08.066+00:00',\n",
       " 'createdBy': 238326641218361929399469593201153582650,\n",
       " 'modifiedDate': '2022-04-23T16:35:08.066+00:00',\n",
       " 'modifiedBy': 238326641218361929399469593201153582650,\n",
       " 'projectPhase': {'entityTypeCode': 'BuilderProjectPhase$HibernateProxy$zZRcXTWp',\n",
       "  'id': '61936476469394956423811905693698984341',\n",
       "  'code': 'R2'},\n",
       " 'member': {'id': '238326641218361929399469593201153582650',\n",
       "  'code': 'b0b1aba6-1c88-4bbc-a7d8-6f498990d677'},\n",
       " 'purchaseCandidate': None,\n",
       " 'comments': '',\n",
       " 'agentMember': None,\n",
       " 'agentInformation': None,\n",
       " 'governanceState': {'governanceStatus': {'id': 183664158261558608305632032228377781178,\n",
       "   'code': 'submittedForApproval',\n",
       "   'name': 'Submitted'}},\n",
       " 'modelElevations': [],\n",
       " 'units': [{'id': '90702621565415997141353539143693940017', 'code': '6'}],\n",
       " 'preferredUnit': None}"
      ]
     },
     "execution_count": 34,
     "metadata": {},
     "output_type": "execute_result"
    }
   ],
   "source": [
    "PurchaseRequestData[0] # focus is on the first element in the list and is a dictionary"
   ]
  },
  {
   "cell_type": "code",
   "execution_count": 35,
   "id": "32ec0df8",
   "metadata": {},
   "outputs": [
    {
     "data": {
      "text/plain": [
       "{'sequence': 7,\n",
       " 'model': {'id': '127980442823647262715247669825181426442',\n",
       "  'code': 'highpark_v2'},\n",
       " 'purchaseRequestAgentRepresentation': {'code': 'notRepresented'},\n",
       " 'validationStatus': {'code': 'valid'},\n",
       " 'id': 80330247012046068400763358414099419781,\n",
       " 'createdDate': '2022-05-13T21:03:50.868+00:00',\n",
       " 'createdBy': 144016199251080022821532858060524443331,\n",
       " 'modifiedDate': '2022-05-13T21:03:50.868+00:00',\n",
       " 'modifiedBy': 144016199251080022821532858060524443331,\n",
       " 'projectPhase': {'entityTypeCode': 'BuilderProjectPhase$HibernateProxy$zZRcXTWp',\n",
       "  'id': '61936476469394956423811905693698984341',\n",
       "  'code': 'R2'},\n",
       " 'member': {'id': '144016199251080022821532858060524443331',\n",
       "  'code': '907db80e-2065-4739-ac2a-3a78c2b7d98a'},\n",
       " 'purchaseCandidate': None,\n",
       " 'comments': '',\n",
       " 'agentMember': None,\n",
       " 'agentInformation': None,\n",
       " 'governanceState': {'governanceStatus': {'id': 183664158261558608305632032228377781178,\n",
       "   'code': 'submittedForApproval',\n",
       "   'name': 'Submitted'}},\n",
       " 'modelElevations': [{'id': '119465950825664807884350196238456952592'}],\n",
       " 'units': [{'id': '108244622275259562164475253449023827395', 'code': '29'},\n",
       "  {'id': '274380973755684437610912487041393536120', 'code': '30'},\n",
       "  {'id': '332096254994878785092761726200846137194', 'code': '9'}],\n",
       " 'preferredUnit': {'id': '108244622275259562164475253449023827395',\n",
       "  'code': '29'}}"
      ]
     },
     "execution_count": 35,
     "metadata": {},
     "output_type": "execute_result"
    }
   ],
   "source": [
    "PurchaseRequestData[1]"
   ]
  },
  {
   "cell_type": "code",
   "execution_count": 51,
   "id": "5a65bd26",
   "metadata": {},
   "outputs": [
    {
     "data": {
      "text/html": [
       "<div>\n",
       "<style scoped>\n",
       "    .dataframe tbody tr th:only-of-type {\n",
       "        vertical-align: middle;\n",
       "    }\n",
       "\n",
       "    .dataframe tbody tr th {\n",
       "        vertical-align: top;\n",
       "    }\n",
       "\n",
       "    .dataframe thead th {\n",
       "        text-align: right;\n",
       "    }\n",
       "</style>\n",
       "<table border=\"1\" class=\"dataframe\">\n",
       "  <thead>\n",
       "    <tr style=\"text-align: right;\">\n",
       "      <th></th>\n",
       "      <th>sequence</th>\n",
       "      <th>model</th>\n",
       "      <th>purchaseRequestAgentRepresentation</th>\n",
       "      <th>validationStatus</th>\n",
       "      <th>id</th>\n",
       "      <th>createdDate</th>\n",
       "      <th>createdBy</th>\n",
       "      <th>modifiedDate</th>\n",
       "      <th>modifiedBy</th>\n",
       "      <th>projectPhase</th>\n",
       "      <th>...</th>\n",
       "      <th>comments</th>\n",
       "      <th>agentMember</th>\n",
       "      <th>agentInformation</th>\n",
       "      <th>governanceState</th>\n",
       "      <th>modelElevations</th>\n",
       "      <th>units</th>\n",
       "      <th>preferredUnit</th>\n",
       "      <th>unit</th>\n",
       "      <th>models</th>\n",
       "      <th>preferredModel</th>\n",
       "    </tr>\n",
       "  </thead>\n",
       "  <tbody>\n",
       "    <tr>\n",
       "      <th>0</th>\n",
       "      <td>6</td>\n",
       "      <td>{'id': '32651951140353610752189814585961111612...</td>\n",
       "      <td>{'code': 'notRepresented'}</td>\n",
       "      <td>{'code': 'valid'}</td>\n",
       "      <td>79323914104754170229919893055764627421</td>\n",
       "      <td>2022-04-23T16:35:08.066+00:00</td>\n",
       "      <td>238326641218361929399469593201153582650</td>\n",
       "      <td>2022-04-23T16:35:08.066+00:00</td>\n",
       "      <td>238326641218361929399469593201153582650</td>\n",
       "      <td>{'entityTypeCode': 'BuilderProjectPhase$Hibern...</td>\n",
       "      <td>...</td>\n",
       "      <td></td>\n",
       "      <td>None</td>\n",
       "      <td>None</td>\n",
       "      <td>{'governanceStatus': {'id': 183664158261558608...</td>\n",
       "      <td>[]</td>\n",
       "      <td>[{'id': '9070262156541599714135353914369394001...</td>\n",
       "      <td>None</td>\n",
       "      <td>NaN</td>\n",
       "      <td>NaN</td>\n",
       "      <td>NaN</td>\n",
       "    </tr>\n",
       "    <tr>\n",
       "      <th>1</th>\n",
       "      <td>7</td>\n",
       "      <td>{'id': '12798044282364726271524766982518142644...</td>\n",
       "      <td>{'code': 'notRepresented'}</td>\n",
       "      <td>{'code': 'valid'}</td>\n",
       "      <td>80330247012046068400763358414099419781</td>\n",
       "      <td>2022-05-13T21:03:50.868+00:00</td>\n",
       "      <td>144016199251080022821532858060524443331</td>\n",
       "      <td>2022-05-13T21:03:50.868+00:00</td>\n",
       "      <td>144016199251080022821532858060524443331</td>\n",
       "      <td>{'entityTypeCode': 'BuilderProjectPhase$Hibern...</td>\n",
       "      <td>...</td>\n",
       "      <td></td>\n",
       "      <td>None</td>\n",
       "      <td>None</td>\n",
       "      <td>{'governanceStatus': {'id': 183664158261558608...</td>\n",
       "      <td>[{'id': '1194659508256648078843501962384569525...</td>\n",
       "      <td>[{'id': '1082446222752595621644752534490238273...</td>\n",
       "      <td>{'id': '10824462227525956216447525344902382739...</td>\n",
       "      <td>NaN</td>\n",
       "      <td>NaN</td>\n",
       "      <td>NaN</td>\n",
       "    </tr>\n",
       "    <tr>\n",
       "      <th>2</th>\n",
       "      <td>9</td>\n",
       "      <td>NaN</td>\n",
       "      <td>{'code': 'notRepresented'}</td>\n",
       "      <td>{'code': 'valid'}</td>\n",
       "      <td>290724171236868583696544743686238467290</td>\n",
       "      <td>2022-05-19T14:51:05.752+00:00</td>\n",
       "      <td>8984888742192155624564665337111150336</td>\n",
       "      <td>2022-05-19T14:51:05.752+00:00</td>\n",
       "      <td>8984888742192155624564665337111150336</td>\n",
       "      <td>{'entityTypeCode': 'BuilderProjectPhase$Hibern...</td>\n",
       "      <td>...</td>\n",
       "      <td></td>\n",
       "      <td>None</td>\n",
       "      <td>None</td>\n",
       "      <td>{'governanceStatus': {'id': 183664158261558608...</td>\n",
       "      <td>NaN</td>\n",
       "      <td>NaN</td>\n",
       "      <td>NaN</td>\n",
       "      <td>{'id': '59220718467727525113371133874619858475...</td>\n",
       "      <td>[]</td>\n",
       "      <td>NaN</td>\n",
       "    </tr>\n",
       "    <tr>\n",
       "      <th>3</th>\n",
       "      <td>10</td>\n",
       "      <td>{'id': '1743295353221137051427450883861233548'...</td>\n",
       "      <td>{'code': 'notRepresented'}</td>\n",
       "      <td>{'code': 'valid'}</td>\n",
       "      <td>141012978058968556829089436532695298221</td>\n",
       "      <td>2022-05-30T21:15:20.250+00:00</td>\n",
       "      <td>303156455355451892526290871773497701496</td>\n",
       "      <td>2022-05-30T21:15:20.250+00:00</td>\n",
       "      <td>303156455355451892526290871773497701496</td>\n",
       "      <td>{'entityTypeCode': 'BuilderProjectPhase$Hibern...</td>\n",
       "      <td>...</td>\n",
       "      <td></td>\n",
       "      <td>None</td>\n",
       "      <td>None</td>\n",
       "      <td>{'governanceStatus': {'id': 183664158261558608...</td>\n",
       "      <td>[]</td>\n",
       "      <td>[{'id': '3048771389884496174624663286942331269...</td>\n",
       "      <td>None</td>\n",
       "      <td>NaN</td>\n",
       "      <td>NaN</td>\n",
       "      <td>NaN</td>\n",
       "    </tr>\n",
       "    <tr>\n",
       "      <th>4</th>\n",
       "      <td>11</td>\n",
       "      <td>NaN</td>\n",
       "      <td>{'code': 'notRepresented'}</td>\n",
       "      <td>{'code': 'valid'}</td>\n",
       "      <td>165018273342074700707658732427349089267</td>\n",
       "      <td>2022-06-25T12:13:06.384+00:00</td>\n",
       "      <td>73407343282096903269699502215346738601</td>\n",
       "      <td>2022-06-25T12:13:06.384+00:00</td>\n",
       "      <td>73407343282096903269699502215346738601</td>\n",
       "      <td>{'entityTypeCode': 'BuilderProjectPhase$Hibern...</td>\n",
       "      <td>...</td>\n",
       "      <td></td>\n",
       "      <td>None</td>\n",
       "      <td>None</td>\n",
       "      <td>{'governanceStatus': {'id': 183664158261558608...</td>\n",
       "      <td>NaN</td>\n",
       "      <td>NaN</td>\n",
       "      <td>NaN</td>\n",
       "      <td>{'id': '32363110718089623568090004876982485949...</td>\n",
       "      <td>[{'id': '1279804428236472627152476698251814264...</td>\n",
       "      <td>NaN</td>\n",
       "    </tr>\n",
       "  </tbody>\n",
       "</table>\n",
       "<p>5 rows × 22 columns</p>\n",
       "</div>"
      ],
      "text/plain": [
       "   sequence                                              model  \\\n",
       "0         6  {'id': '32651951140353610752189814585961111612...   \n",
       "1         7  {'id': '12798044282364726271524766982518142644...   \n",
       "2         9                                                NaN   \n",
       "3        10  {'id': '1743295353221137051427450883861233548'...   \n",
       "4        11                                                NaN   \n",
       "\n",
       "  purchaseRequestAgentRepresentation   validationStatus  \\\n",
       "0         {'code': 'notRepresented'}  {'code': 'valid'}   \n",
       "1         {'code': 'notRepresented'}  {'code': 'valid'}   \n",
       "2         {'code': 'notRepresented'}  {'code': 'valid'}   \n",
       "3         {'code': 'notRepresented'}  {'code': 'valid'}   \n",
       "4         {'code': 'notRepresented'}  {'code': 'valid'}   \n",
       "\n",
       "                                        id                    createdDate  \\\n",
       "0   79323914104754170229919893055764627421  2022-04-23T16:35:08.066+00:00   \n",
       "1   80330247012046068400763358414099419781  2022-05-13T21:03:50.868+00:00   \n",
       "2  290724171236868583696544743686238467290  2022-05-19T14:51:05.752+00:00   \n",
       "3  141012978058968556829089436532695298221  2022-05-30T21:15:20.250+00:00   \n",
       "4  165018273342074700707658732427349089267  2022-06-25T12:13:06.384+00:00   \n",
       "\n",
       "                                 createdBy                   modifiedDate  \\\n",
       "0  238326641218361929399469593201153582650  2022-04-23T16:35:08.066+00:00   \n",
       "1  144016199251080022821532858060524443331  2022-05-13T21:03:50.868+00:00   \n",
       "2    8984888742192155624564665337111150336  2022-05-19T14:51:05.752+00:00   \n",
       "3  303156455355451892526290871773497701496  2022-05-30T21:15:20.250+00:00   \n",
       "4   73407343282096903269699502215346738601  2022-06-25T12:13:06.384+00:00   \n",
       "\n",
       "                                modifiedBy  \\\n",
       "0  238326641218361929399469593201153582650   \n",
       "1  144016199251080022821532858060524443331   \n",
       "2    8984888742192155624564665337111150336   \n",
       "3  303156455355451892526290871773497701496   \n",
       "4   73407343282096903269699502215346738601   \n",
       "\n",
       "                                        projectPhase  ... comments  \\\n",
       "0  {'entityTypeCode': 'BuilderProjectPhase$Hibern...  ...            \n",
       "1  {'entityTypeCode': 'BuilderProjectPhase$Hibern...  ...            \n",
       "2  {'entityTypeCode': 'BuilderProjectPhase$Hibern...  ...            \n",
       "3  {'entityTypeCode': 'BuilderProjectPhase$Hibern...  ...            \n",
       "4  {'entityTypeCode': 'BuilderProjectPhase$Hibern...  ...            \n",
       "\n",
       "  agentMember agentInformation  \\\n",
       "0        None             None   \n",
       "1        None             None   \n",
       "2        None             None   \n",
       "3        None             None   \n",
       "4        None             None   \n",
       "\n",
       "                                     governanceState  \\\n",
       "0  {'governanceStatus': {'id': 183664158261558608...   \n",
       "1  {'governanceStatus': {'id': 183664158261558608...   \n",
       "2  {'governanceStatus': {'id': 183664158261558608...   \n",
       "3  {'governanceStatus': {'id': 183664158261558608...   \n",
       "4  {'governanceStatus': {'id': 183664158261558608...   \n",
       "\n",
       "                                     modelElevations  \\\n",
       "0                                                 []   \n",
       "1  [{'id': '1194659508256648078843501962384569525...   \n",
       "2                                                NaN   \n",
       "3                                                 []   \n",
       "4                                                NaN   \n",
       "\n",
       "                                               units  \\\n",
       "0  [{'id': '9070262156541599714135353914369394001...   \n",
       "1  [{'id': '1082446222752595621644752534490238273...   \n",
       "2                                                NaN   \n",
       "3  [{'id': '3048771389884496174624663286942331269...   \n",
       "4                                                NaN   \n",
       "\n",
       "                                       preferredUnit  \\\n",
       "0                                               None   \n",
       "1  {'id': '10824462227525956216447525344902382739...   \n",
       "2                                                NaN   \n",
       "3                                               None   \n",
       "4                                                NaN   \n",
       "\n",
       "                                                unit  \\\n",
       "0                                                NaN   \n",
       "1                                                NaN   \n",
       "2  {'id': '59220718467727525113371133874619858475...   \n",
       "3                                                NaN   \n",
       "4  {'id': '32363110718089623568090004876982485949...   \n",
       "\n",
       "                                              models preferredModel  \n",
       "0                                                NaN            NaN  \n",
       "1                                                NaN            NaN  \n",
       "2                                                 []            NaN  \n",
       "3                                                NaN            NaN  \n",
       "4  [{'id': '1279804428236472627152476698251814264...            NaN  \n",
       "\n",
       "[5 rows x 22 columns]"
      ]
     },
     "execution_count": 51,
     "metadata": {},
     "output_type": "execute_result"
    }
   ],
   "source": [
    "df2 = pd.DataFrame(PurchaseRequestData) # Each row represents a single purchase request\n",
    "df2.head()"
   ]
  },
  {
   "cell_type": "code",
   "execution_count": 55,
   "id": "45f856c4",
   "metadata": {},
   "outputs": [
    {
     "data": {
      "text/html": [
       "<div>\n",
       "<style scoped>\n",
       "    .dataframe tbody tr th:only-of-type {\n",
       "        vertical-align: middle;\n",
       "    }\n",
       "\n",
       "    .dataframe tbody tr th {\n",
       "        vertical-align: top;\n",
       "    }\n",
       "\n",
       "    .dataframe thead th {\n",
       "        text-align: right;\n",
       "    }\n",
       "</style>\n",
       "<table border=\"1\" class=\"dataframe\">\n",
       "  <thead>\n",
       "    <tr style=\"text-align: right;\">\n",
       "      <th></th>\n",
       "      <th>sequence</th>\n",
       "      <th>createdDate</th>\n",
       "      <th>createdBy</th>\n",
       "      <th>modifiedDate</th>\n",
       "      <th>modifiedBy</th>\n",
       "      <th>purchaseCandidate</th>\n",
       "      <th>comments</th>\n",
       "      <th>agentMember</th>\n",
       "      <th>agentInformation</th>\n",
       "      <th>governanceState</th>\n",
       "      <th>modelElevations</th>\n",
       "      <th>units</th>\n",
       "      <th>preferredUnit</th>\n",
       "      <th>unit</th>\n",
       "      <th>models</th>\n",
       "      <th>preferredModel</th>\n",
       "    </tr>\n",
       "  </thead>\n",
       "  <tbody>\n",
       "    <tr>\n",
       "      <th>0</th>\n",
       "      <td>6</td>\n",
       "      <td>2022-04-23T16:35:08.066+00:00</td>\n",
       "      <td>238326641218361929399469593201153582650</td>\n",
       "      <td>2022-04-23T16:35:08.066+00:00</td>\n",
       "      <td>238326641218361929399469593201153582650</td>\n",
       "      <td>None</td>\n",
       "      <td></td>\n",
       "      <td>None</td>\n",
       "      <td>None</td>\n",
       "      <td>{'governanceStatus': {'id': 183664158261558608...</td>\n",
       "      <td>[]</td>\n",
       "      <td>[{'id': '9070262156541599714135353914369394001...</td>\n",
       "      <td>None</td>\n",
       "      <td>NaN</td>\n",
       "      <td>NaN</td>\n",
       "      <td>NaN</td>\n",
       "    </tr>\n",
       "    <tr>\n",
       "      <th>1</th>\n",
       "      <td>7</td>\n",
       "      <td>2022-05-13T21:03:50.868+00:00</td>\n",
       "      <td>144016199251080022821532858060524443331</td>\n",
       "      <td>2022-05-13T21:03:50.868+00:00</td>\n",
       "      <td>144016199251080022821532858060524443331</td>\n",
       "      <td>None</td>\n",
       "      <td></td>\n",
       "      <td>None</td>\n",
       "      <td>None</td>\n",
       "      <td>{'governanceStatus': {'id': 183664158261558608...</td>\n",
       "      <td>[{'id': '1194659508256648078843501962384569525...</td>\n",
       "      <td>[{'id': '1082446222752595621644752534490238273...</td>\n",
       "      <td>{'id': '10824462227525956216447525344902382739...</td>\n",
       "      <td>NaN</td>\n",
       "      <td>NaN</td>\n",
       "      <td>NaN</td>\n",
       "    </tr>\n",
       "    <tr>\n",
       "      <th>2</th>\n",
       "      <td>9</td>\n",
       "      <td>2022-05-19T14:51:05.752+00:00</td>\n",
       "      <td>8984888742192155624564665337111150336</td>\n",
       "      <td>2022-05-19T14:51:05.752+00:00</td>\n",
       "      <td>8984888742192155624564665337111150336</td>\n",
       "      <td>None</td>\n",
       "      <td></td>\n",
       "      <td>None</td>\n",
       "      <td>None</td>\n",
       "      <td>{'governanceStatus': {'id': 183664158261558608...</td>\n",
       "      <td>NaN</td>\n",
       "      <td>NaN</td>\n",
       "      <td>NaN</td>\n",
       "      <td>{'id': '59220718467727525113371133874619858475...</td>\n",
       "      <td>[]</td>\n",
       "      <td>NaN</td>\n",
       "    </tr>\n",
       "    <tr>\n",
       "      <th>3</th>\n",
       "      <td>10</td>\n",
       "      <td>2022-05-30T21:15:20.250+00:00</td>\n",
       "      <td>303156455355451892526290871773497701496</td>\n",
       "      <td>2022-05-30T21:15:20.250+00:00</td>\n",
       "      <td>303156455355451892526290871773497701496</td>\n",
       "      <td>{'entityTypeCode': 'builderProjectUnitPurchase...</td>\n",
       "      <td></td>\n",
       "      <td>None</td>\n",
       "      <td>None</td>\n",
       "      <td>{'governanceStatus': {'id': 183664158261558608...</td>\n",
       "      <td>[]</td>\n",
       "      <td>[{'id': '3048771389884496174624663286942331269...</td>\n",
       "      <td>None</td>\n",
       "      <td>NaN</td>\n",
       "      <td>NaN</td>\n",
       "      <td>NaN</td>\n",
       "    </tr>\n",
       "    <tr>\n",
       "      <th>4</th>\n",
       "      <td>11</td>\n",
       "      <td>2022-06-25T12:13:06.384+00:00</td>\n",
       "      <td>73407343282096903269699502215346738601</td>\n",
       "      <td>2022-06-25T12:13:06.384+00:00</td>\n",
       "      <td>73407343282096903269699502215346738601</td>\n",
       "      <td>None</td>\n",
       "      <td></td>\n",
       "      <td>None</td>\n",
       "      <td>None</td>\n",
       "      <td>{'governanceStatus': {'id': 183664158261558608...</td>\n",
       "      <td>NaN</td>\n",
       "      <td>NaN</td>\n",
       "      <td>NaN</td>\n",
       "      <td>{'id': '32363110718089623568090004876982485949...</td>\n",
       "      <td>[{'id': '1279804428236472627152476698251814264...</td>\n",
       "      <td>NaN</td>\n",
       "    </tr>\n",
       "  </tbody>\n",
       "</table>\n",
       "</div>"
      ],
      "text/plain": [
       "   sequence                    createdDate  \\\n",
       "0         6  2022-04-23T16:35:08.066+00:00   \n",
       "1         7  2022-05-13T21:03:50.868+00:00   \n",
       "2         9  2022-05-19T14:51:05.752+00:00   \n",
       "3        10  2022-05-30T21:15:20.250+00:00   \n",
       "4        11  2022-06-25T12:13:06.384+00:00   \n",
       "\n",
       "                                 createdBy                   modifiedDate  \\\n",
       "0  238326641218361929399469593201153582650  2022-04-23T16:35:08.066+00:00   \n",
       "1  144016199251080022821532858060524443331  2022-05-13T21:03:50.868+00:00   \n",
       "2    8984888742192155624564665337111150336  2022-05-19T14:51:05.752+00:00   \n",
       "3  303156455355451892526290871773497701496  2022-05-30T21:15:20.250+00:00   \n",
       "4   73407343282096903269699502215346738601  2022-06-25T12:13:06.384+00:00   \n",
       "\n",
       "                                modifiedBy  \\\n",
       "0  238326641218361929399469593201153582650   \n",
       "1  144016199251080022821532858060524443331   \n",
       "2    8984888742192155624564665337111150336   \n",
       "3  303156455355451892526290871773497701496   \n",
       "4   73407343282096903269699502215346738601   \n",
       "\n",
       "                                   purchaseCandidate comments agentMember  \\\n",
       "0                                               None                 None   \n",
       "1                                               None                 None   \n",
       "2                                               None                 None   \n",
       "3  {'entityTypeCode': 'builderProjectUnitPurchase...                 None   \n",
       "4                                               None                 None   \n",
       "\n",
       "  agentInformation                                    governanceState  \\\n",
       "0             None  {'governanceStatus': {'id': 183664158261558608...   \n",
       "1             None  {'governanceStatus': {'id': 183664158261558608...   \n",
       "2             None  {'governanceStatus': {'id': 183664158261558608...   \n",
       "3             None  {'governanceStatus': {'id': 183664158261558608...   \n",
       "4             None  {'governanceStatus': {'id': 183664158261558608...   \n",
       "\n",
       "                                     modelElevations  \\\n",
       "0                                                 []   \n",
       "1  [{'id': '1194659508256648078843501962384569525...   \n",
       "2                                                NaN   \n",
       "3                                                 []   \n",
       "4                                                NaN   \n",
       "\n",
       "                                               units  \\\n",
       "0  [{'id': '9070262156541599714135353914369394001...   \n",
       "1  [{'id': '1082446222752595621644752534490238273...   \n",
       "2                                                NaN   \n",
       "3  [{'id': '3048771389884496174624663286942331269...   \n",
       "4                                                NaN   \n",
       "\n",
       "                                       preferredUnit  \\\n",
       "0                                               None   \n",
       "1  {'id': '10824462227525956216447525344902382739...   \n",
       "2                                                NaN   \n",
       "3                                               None   \n",
       "4                                                NaN   \n",
       "\n",
       "                                                unit  \\\n",
       "0                                                NaN   \n",
       "1                                                NaN   \n",
       "2  {'id': '59220718467727525113371133874619858475...   \n",
       "3                                                NaN   \n",
       "4  {'id': '32363110718089623568090004876982485949...   \n",
       "\n",
       "                                              models  preferredModel  \n",
       "0                                                NaN             NaN  \n",
       "1                                                NaN             NaN  \n",
       "2                                                 []             NaN  \n",
       "3                                                NaN             NaN  \n",
       "4  [{'id': '1279804428236472627152476698251814264...             NaN  "
      ]
     },
     "execution_count": 55,
     "metadata": {},
     "output_type": "execute_result"
    }
   ],
   "source": [
    "df2 = df2.drop(labels = ['purchaseRequestAgentRepresentation', 'validationStatus', 'id','projectPhase', 'member'], axis = 1)\n",
    "df2.head() # playing around with dropping columns we might not need."
   ]
  }
 ],
 "metadata": {
  "kernelspec": {
   "display_name": "Python 3 (ipykernel)",
   "language": "python",
   "name": "python3"
  },
  "language_info": {
   "codemirror_mode": {
    "name": "ipython",
    "version": 3
   },
   "file_extension": ".py",
   "mimetype": "text/x-python",
   "name": "python",
   "nbconvert_exporter": "python",
   "pygments_lexer": "ipython3",
   "version": "3.9.12"
  }
 },
 "nbformat": 4,
 "nbformat_minor": 5
}
